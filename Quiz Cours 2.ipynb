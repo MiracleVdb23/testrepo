{
 "cells": [
  {
   "cell_type": "markdown",
   "id": "fc30cf97",
   "metadata": {},
   "source": [
    "Exercice 2\n",
    "Tools for data Science"
   ]
  },
  {
   "cell_type": "markdown",
   "id": "c190cb1b",
   "metadata": {},
   "source": [
    "Exercie 3 \n",
    "I'm Miracle VODOUMBO, student at AMSE in France. I'm doing IBM certification for complete my formation."
   ]
  },
  {
   "cell_type": "markdown",
   "id": "729961ff",
   "metadata": {},
   "source": [
    "Exercice 4 \n",
    "There are many differents language for data science such as Python, R, SQL so one and so far..."
   ]
  },
  {
   "cell_type": "markdown",
   "id": "15a392e5",
   "metadata": {},
   "source": [
    "Exercice 5\n",
    "The diferrents data science librairies are: ggplot2, foreign, dplyr, haven, tydiverse on R, pandas , matplotlib, numpy on Python."
   ]
  },
  {
   "cell_type": "markdown",
   "id": "9d9d13c4",
   "metadata": {},
   "source": [
    "Exercice 6 \n",
    "We have open source tools, commercial tools and cloud based tools for data science. Data Management, open source data integration, transformation and visualisation tools. \n",
    "Data Management tools --> MySQL and PostgreSQL;  MongoDB Apache CouchDB, and Apache Cassandra; the Hadoop File System or Cloud File systems like Ceph.\n",
    "Open source data integration -->   Apache AirFlow,  KubeFlow, Apache Kafka, Apache Nifi,Apache SparkSQL, and NodeRED.\n",
    "Visualisation tools --> Hue, Kibana, Apache Superset.\n",
    "When we focus on commercial data integration tools, we’re talking about “extract, transform, and load,” or “ETL” tools. The most prominent commercial examples are: Tableau, Microsoft Power BI, and IBM Cognos Analytics."
   ]
  },
  {
   "cell_type": "markdown",
   "id": "45bafb6c",
   "metadata": {},
   "source": [
    "Exercice 7 I will execute many arithmetic expressions"
   ]
  },
  {
   "cell_type": "markdown",
   "id": "dbe24758",
   "metadata": {},
   "source": [
    "Exercice 8:"
   ]
  },
  {
   "cell_type": "code",
   "execution_count": 1,
   "id": "389ddd47",
   "metadata": {
    "scrolled": true
   },
   "outputs": [
    {
     "data": {
      "text/plain": [
       "49"
      ]
     },
     "execution_count": 1,
     "metadata": {},
     "output_type": "execute_result"
    }
   ],
   "source": [
    "(4+3)**2"
   ]
  },
  {
   "cell_type": "markdown",
   "id": "4832257b",
   "metadata": {},
   "source": [
    "Exercice 9: "
   ]
  },
  {
   "cell_type": "code",
   "execution_count": null,
   "id": "411a502f",
   "metadata": {},
   "outputs": [],
   "source": [
    "def heure(minute):\n",
    "    return (minute/60)\n",
    "\n",
    "heure(120)"
   ]
  },
  {
   "cell_type": "code",
   "execution_count": 3,
   "id": "6eee0bba",
   "metadata": {},
   "outputs": [
    {
     "data": {
      "text/plain": [
       "2.4166666666666665"
      ]
     },
     "execution_count": 3,
     "metadata": {},
     "output_type": "execute_result"
    }
   ],
   "source": [
    "heure(145)"
   ]
  },
  {
   "cell_type": "markdown",
   "id": "ee478f7c",
   "metadata": {},
   "source": [
    "Exercice 10: My objectives are: \n",
    "- get an overview of the programming languages commonly used, including Python, R, Scala, and SQL. \n",
    "- introduced to the open source and commercial data science tools available.\n",
    "- learn about the packages, APIs, data sets and models frequently used by Data Scientists."
   ]
  },
  {
   "cell_type": "markdown",
   "id": "5eb764c7",
   "metadata": {},
   "source": [
    "Exercice 11: I'm the author of this notebook. My name is Phillippe Miracle Towanou VODOUMBO. "
   ]
  },
  {
   "cell_type": "code",
   "execution_count": null,
   "id": "be5d67b9",
   "metadata": {},
   "outputs": [],
   "source": []
  }
 ],
 "metadata": {
  "kernelspec": {
   "display_name": "Python 3 (ipykernel)",
   "language": "python",
   "name": "python3"
  },
  "language_info": {
   "codemirror_mode": {
    "name": "ipython",
    "version": 3
   },
   "file_extension": ".py",
   "mimetype": "text/x-python",
   "name": "python",
   "nbconvert_exporter": "python",
   "pygments_lexer": "ipython3",
   "version": "3.9.13"
  }
 },
 "nbformat": 4,
 "nbformat_minor": 5
}
