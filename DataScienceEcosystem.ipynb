{
 "cells": [
  {
   "cell_type": "markdown",
   "id": "b257c7d2",
   "metadata": {},
   "source": [
    "Exercice 2\n",
    "# Data Science Tools and Ecosystem"
   ]
  },
  {
   "cell_type": "markdown",
   "id": "e4c99966",
   "metadata": {},
   "source": [
    "Exercie 3 \n",
    "I'm Miracle VODOUMBO, student at AMSE in France. *I am interested in data science because i would like to help companies make good decisions based on data*. In this notebook, Data Science Tools and Ecosystem are summarized."
   ]
  },
  {
   "cell_type": "markdown",
   "id": "307723e5",
   "metadata": {},
   "source": [
    "Exercice 10: Objectives are: \n",
    "- get an overview of the programming languages commonly used, including Python, R, Scala, and SQL. \n",
    "- introduced to the open source and commercial data science tools available.\n",
    "- learn about the packages, APIs, data sets and models frequently used by Data Scientists."
   ]
  },
  {
   "cell_type": "markdown",
   "id": "8cffe75d",
   "metadata": {},
   "source": [
    "Exercice 4 \n",
    "Some of the popular languages that Data Scientists use are:\n",
    " 1. Python \n",
    " 2. R\n",
    " 3. SQL\n",
    " 4. Scala\n",
    " 5. Java\n",
    " 6. C ++ \n",
    " 7. Julia\n",
    " 8. Javascript \n",
    " 9. PHP\n",
    " 10. Go\n",
    " 11. Ruby \n",
    " 12. Visual Basic. "
   ]
  },
  {
   "cell_type": "markdown",
   "id": "4c6ae2dc",
   "metadata": {},
   "source": [
    "Exercice 5\n",
    "Some of the commonly used libraries used by Data Scientists include:  \n",
    "1. Pandas \n",
    "2. NumPy\n",
    "3. Scipy\n",
    "4. Matplotlib \n",
    "5. TensorFlow \n",
    "6. PyTorch\n",
    "7. Keras \n",
    "8. Scikit-Learn \n",
    "9. ggplot2\n",
    "10. foreign\n",
    "11. dplyr\n",
    "12. tydiverse"
   ]
  },
  {
   "cell_type": "markdown",
   "id": "55a207c4",
   "metadata": {},
   "source": [
    "Exercice 6\n"
   ]
  },
  {
   "cell_type": "markdown",
   "id": "8f4c300a",
   "metadata": {},
   "source": [
    "| Data Science Tools | \n",
    "| ------------------ |\n",
    "| My SQL, PostgreSQL | \n",
    "| Mongo DB, Apache CouchDB |\n",
    "| Apache AirFlow, KubeFlow, Apache Kafka |\n",
    "| Apache Nifi, Apache SparkSQL |\n",
    "| NodeRED, Hue, Kibana, Apache Superset |"
   ]
  },
  {
   "cell_type": "markdown",
   "id": "ac104c80",
   "metadata": {},
   "source": [
    "Exercice 7 \n",
    " ### Below are a few examples of evaluating arithmetic expressions in Python."
   ]
  },
  {
   "cell_type": "markdown",
   "id": "46b45cf1",
   "metadata": {},
   "source": [
    "Exercice 8: This a simple arithmetic expression to mutiply then add integers."
   ]
  },
  {
   "cell_type": "code",
   "execution_count": 6,
   "id": "b4fad953",
   "metadata": {
    "scrolled": true
   },
   "outputs": [
    {
     "data": {
      "text/plain": [
       "17"
      ]
     },
     "execution_count": 6,
     "metadata": {},
     "output_type": "execute_result"
    }
   ],
   "source": [
    "(3*4)+5"
   ]
  },
  {
   "cell_type": "markdown",
   "id": "d09d5187",
   "metadata": {},
   "source": [
    "Exercice 9: This will convert 200 minutes to hours by diving by 60"
   ]
  },
  {
   "cell_type": "code",
   "execution_count": 8,
   "id": "12c80e24",
   "metadata": {},
   "outputs": [
    {
     "data": {
      "text/plain": [
       "3.3333333333333335"
      ]
     },
     "execution_count": 8,
     "metadata": {},
     "output_type": "execute_result"
    }
   ],
   "source": [
    "200/60"
   ]
  },
  {
   "cell_type": "markdown",
   "id": "d14d47ad",
   "metadata": {},
   "source": [
    "Exercice 11: \n",
    "## Author\n",
    "**Phillippe Miracle Towanou VODOUMBO**. "
   ]
  },
  {
   "cell_type": "code",
   "execution_count": null,
   "id": "a9c5fc55",
   "metadata": {},
   "outputs": [],
   "source": []
  }
 ],
 "metadata": {
  "kernelspec": {
   "display_name": "Python 3 (ipykernel)",
   "language": "python",
   "name": "python3"
  },
  "language_info": {
   "codemirror_mode": {
    "name": "ipython",
    "version": 3
   },
   "file_extension": ".py",
   "mimetype": "text/x-python",
   "name": "python",
   "nbconvert_exporter": "python",
   "pygments_lexer": "ipython3",
   "version": "3.9.13"
  }
 },
 "nbformat": 4,
 "nbformat_minor": 5
}
