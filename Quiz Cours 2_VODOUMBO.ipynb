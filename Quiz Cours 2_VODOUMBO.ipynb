{
 "cells": [
  {
   "cell_type": "markdown",
   "id": "fa9894a7",
   "metadata": {},
   "source": [
    "Exercice 2\n",
    "# Tools for data Science"
   ]
  },
  {
   "cell_type": "markdown",
   "id": "a349e723",
   "metadata": {},
   "source": [
    "Exercie 3 \n",
    "I'm Miracle VODOUMBO, student at AMSE in France. *I am interested in data science because i would like to help companies make good decisions based on data*.I'm doing IBM certification for complete my formation."
   ]
  },
  {
   "cell_type": "markdown",
   "id": "900dc415",
   "metadata": {},
   "source": [
    "Exercice 4 \n",
    "There are many differents language for data science such as Python, R, SQL, Scala, Java, C ++, Julia, Javascript, PHP, Go, Ruby et Visual Basic. "
   ]
  },
  {
   "cell_type": "markdown",
   "id": "f08c5a30",
   "metadata": {},
   "source": [
    "Exercice 5\n",
    "The diferrents data science librairies are: ggplot2, foreign, dplyr, haven, tydiverse on R, Pandas, NumPy, Scipy et Matplotlib, il a TensorFlow, PyTorch, Keras et Scikit-Learn."
   ]
  },
  {
   "cell_type": "markdown",
   "id": "c3fe65aa",
   "metadata": {},
   "source": [
    "Exercice 6\n"
   ]
  },
  {
   "cell_type": "markdown",
   "id": "94e4f302",
   "metadata": {},
   "source": [
    "| Open Source Tools | Commercial Tools | Cloud based Tools |\n",
    "| ---- | ---- | ---- |\n",
    "| My SQL, PostgreSQL | Informatica Powercenter and IBM InfoSphere DataStage |Watson Studio, Watson  OpenScale |\n",
    "| Mongo DB, Apache CouchDB | Oracle, SAS, Talend, Microsoft | Microsoft Asure Machine Learning, H2O Driverless AI |\n",
    "|Apache AirFlow, KubeFlow, Apache Kafka, Apache Nifi, Apache SparkSQL |       |          |\n",
    "|NodeRED, Hue, Kibana, Apache Superset |        |        |"
   ]
  },
  {
   "cell_type": "markdown",
   "id": "8f25941c",
   "metadata": {},
   "source": [
    "Exercice 7 \n",
    " ### I will compute a sum of 4 and 3 multiply by 2."
   ]
  },
  {
   "cell_type": "markdown",
   "id": "8960054f",
   "metadata": {},
   "source": [
    "Exercice 8:"
   ]
  },
  {
   "cell_type": "code",
   "execution_count": 4,
   "id": "fd0aaeb7",
   "metadata": {
    "scrolled": true
   },
   "outputs": [
    {
     "data": {
      "text/plain": [
       "14"
      ]
     },
     "execution_count": 4,
     "metadata": {},
     "output_type": "execute_result"
    }
   ],
   "source": [
    "(4+3)*2"
   ]
  },
  {
   "cell_type": "markdown",
   "id": "d349cb4c",
   "metadata": {},
   "source": [
    "Exercice 9: "
   ]
  },
  {
   "cell_type": "code",
   "execution_count": null,
   "id": "8e5a2d16",
   "metadata": {},
   "outputs": [],
   "source": [
    "def heure(minute):\n",
    "    return (minute/60)\n",
    "\n",
    "heure(120)"
   ]
  },
  {
   "cell_type": "code",
   "execution_count": 3,
   "id": "88bef494",
   "metadata": {},
   "outputs": [
    {
     "data": {
      "text/plain": [
       "2.4166666666666665"
      ]
     },
     "execution_count": 3,
     "metadata": {},
     "output_type": "execute_result"
    }
   ],
   "source": [
    "heure(145)"
   ]
  },
  {
   "cell_type": "markdown",
   "id": "723ab2b7",
   "metadata": {},
   "source": [
    "Exercice 10: My objectives are: \n",
    "- get an overview of the programming languages commonly used, including Python, R, Scala, and SQL. \n",
    "- introduced to the open source and commercial data science tools available.\n",
    "- learn about the packages, APIs, data sets and models frequently used by Data Scientists."
   ]
  },
  {
   "cell_type": "markdown",
   "id": "a4a4ed36",
   "metadata": {},
   "source": [
    "Exercice 11: I'm the author of this notebook. My professional project is to practice the profession of data scientist within a socially renowned institution. My name is **Phillippe Miracle Towanou VODOUMBO**. "
   ]
  },
  {
   "cell_type": "code",
   "execution_count": null,
   "id": "e5121469",
   "metadata": {},
   "outputs": [],
   "source": []
  }
 ],
 "metadata": {
  "kernelspec": {
   "display_name": "Python 3 (ipykernel)",
   "language": "python",
   "name": "python3"
  },
  "language_info": {
   "codemirror_mode": {
    "name": "ipython",
    "version": 3
   },
   "file_extension": ".py",
   "mimetype": "text/x-python",
   "name": "python",
   "nbconvert_exporter": "python",
   "pygments_lexer": "ipython3",
   "version": "3.9.13"
  }
 },
 "nbformat": 4,
 "nbformat_minor": 5
}
